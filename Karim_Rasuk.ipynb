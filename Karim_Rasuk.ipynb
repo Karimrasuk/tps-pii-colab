{
  "nbformat": 4,
  "nbformat_minor": 0,
  "metadata": {
    "colab": {
      "provenance": [],
      "include_colab_link": true
    },
    "kernelspec": {
      "name": "python3",
      "display_name": "Python 3"
    },
    "language_info": {
      "name": "python"
    }
  },
  "cells": [
    {
      "cell_type": "markdown",
      "metadata": {
        "id": "view-in-github",
        "colab_type": "text"
      },
      "source": [
        "<a href=\"https://colab.research.google.com/github/Karimrasuk/tps-pii-colab/blob/main/Karim_Rasuk.ipynb\" target=\"_parent\"><img src=\"https://colab.research.google.com/assets/colab-badge.svg\" alt=\"Open In Colab\"/></a>"
      ]
    },
    {
      "cell_type": "code",
      "execution_count": null,
      "metadata": {
        "id": "8VOD-zpMJovw"
      },
      "outputs": [],
      "source": [
        "# Listas de alumnos\n",
        "estudiantes_5d = [\n",
        "   (\"Alurralde, Solange Stefania\",\"D\",\"02/04/2007\"),\n",
        "   (\"Alvarado, Ludmila Del Milagro\",\"D\",\"06/09/2006\"),\n",
        "   (\"Angel, Camila Juliana\",\"D\",\"07/03/2007\"),\n",
        "   (\"Arenas, Lucas Gabriel\",\"D\",\"26/06/2007\"),\n",
        "   (\"Caseres, Maria Antonia\",\"D\",\"01/07/2006\"),\n",
        "   (\"Castillo, Paulina Milagros\",\"D\",\"01/06/2007\"),\n",
        "   (\"Correa Segovia, Hugo Mariano\",\"D\",\"04/12/2006\"),\n",
        "   (\"D Elia, Alvaro Tadeo\",\"D\",\"27/08/2006\"),\n",
        "   (\"Flores, Victoria Agustina\",\"D\",\"12/12/2006\"),\n",
        "   (\"Geronimo Soriano, Lizzie Amaya\",\"D\",\"20/01/2007\"),\n",
        "   (\"GUZMAN, ANGÉLICA MORENA\",\"D\",\"11/04/2007\"),\n",
        "   (\"Guzman, Jazmin Esmeralda Belen\",\"D\",\"31/07/2006\"),\n",
        "   (\"Jaime, Anita Maria Belen\",\"D\",\"19/04/2007\"),\n",
        "   (\"Lacour Polo, Nazarena\",\"D\",\"19/12/2005\"),\n",
        "   (\"Lascano Guanca, Marcelo Fabricio\",\"D\",\"17/02/2006\"),\n",
        "   (\"Lezcano, Celia Morena\",\"D\",\"01/07/2005\"),\n",
        "   (\"Martinez, Tomas Andres\",\"D\",\"22/03/2007\"),\n",
        "   (\"PORTELLA VALDIVIA, PEDRO FRANCISCO\",\"D\",\"24/01/2007\"),\n",
        "   (\"Retamal Cisneros, Zacarias Josue\",\"D\",\"24/02/2007\"),\n",
        "   (\"Rosales, Francisco Gabriel\",\"D\",\"14/11/2006\"),\n",
        "   (\"Salem Barba, Mahia\",\"D\",\"14/10/2005\"),\n",
        "   (\"Soto Camara, Agustin Ignacio\",\"D\",\"07/11/2005\"),\n",
        "   (\"Villalba, Irina\",\"D\",\"09/09/2006\"),\n",
        "   (\"Voltolini, Emanuel Tobias\",\"D\",\"17/09/2006\"),\n",
        "   (\"Zalazar, Santino Stefano\",\"D\",\"30/09/2006\")\n",
        "]\n",
        "\n",
        "estudiantes_5c=[\n",
        "    (\"ABUD LASPIUR, LOURDES MARIEL\",\"C\",\"05/12/2006\"),\n",
        "    (\"Amador, Luana Micaela\",\"C\",\"09/12/2006\"),\n",
        "    (\"Anaquin, Leonardo Ezequiel\",\"C\",\"06/09/2005\"),\n",
        "    (\"Araoz Sanchez, Lautaro Nahuel\",\"C\",\"28/12/2005\"),\n",
        "    (\"Argañaraz, Agostina Abril\",\"C\",\"11/10/2006\"),\n",
        "    (\"Barrera, Matias Ezequiel\",\"C\",\"27/02/2007\"),\n",
        "    (\"Barrozo Vedia, Joaquin Nicolas\",\"C\",\"15/04/2006\"),\n",
        "    (\"Bettinelli, Valentino\",\"C\",\"12/07/2006\"),\n",
        "    (\"Bracamonte Martinez, Salvador\",\"C\",\"02/11/2005\"),\n",
        "    (\"Colque Rivero, Ariana Zoe Del Valle\",\"C\",\"27/12/2006\"),\n",
        "    (\"Diaz, Dulce Maitena\",\"C\",\"11/12/2006\"),\n",
        "    (\"FIGUEROA, SANTINO JOSUE\",\"C\",\"12/05/2007\"),\n",
        "    (\"Flores Cardozo, Agustina Tiara\",\"C\",\"18/03/2006\"),\n",
        "    (\"Gallo, Octavio Ismael\",\"C\",\"04/08/2006\"),\n",
        "    (\"Galvan, Lourdes Yamila\",\"C\",\"19/08/2005\"),\n",
        "    (\"Giangreco, Vitto Tomasso\",\"C\",\"21/03/2007\"),\n",
        "    (\"Grancara, Martina Luna\",\"C\",\"15/12/2006\"),\n",
        "    (\"Guanca, Sara Elizabeth\",\"C\",\"17/01/2007\"),\n",
        "    (\"Lopez, Victoria Constanza\",\"C\",\"12/11/2007\"),\n",
        "    (\"Mamani Garrido, Rosario Agostina\",\"C\",\"24/10/2006\"),\n",
        "    (\"Marinaro, Martin Ezequiel\",\"C\",\"03/11/2006\"),\n",
        "    (\"Merluzzi Dagum, Ignacio\",\"C\",\"22/12/2005\"),\n",
        "    (\"Messina, Martina\",\"C\",\"13/07/2005\"),\n",
        "    (\"RASUK, KARIM\", \"C\",\"13/07/2007\"),\n",
        "    (\"Rios, Lucia Magali\",\"C\",\"22/09/2006\"),\n",
        "    (\"Sanchez Flores, Matías Agustín\",\"C\",\"15/02/2007\"),\n",
        "    (\"Scarano, Renato Marcelo\",\"C\",\"06/12/2006\"),\n",
        "    (\"Sierra, Lucas Mauricio\",\"C\",\"03/04/2005\"),\n",
        "    (\"Tapia, Martin Gabriel\",\"C\",\"30/05/2006\"),\n",
        "    (\"Vilte, Mia Antonella Alondra\",\"C\",\"10/09/2005\"),\n",
        "    (\"Virgillito, Katya Milena\",\"C\",\"19/06/2007\")\n",
        "]"
      ]
    },
    {
      "cell_type": "markdown",
      "source": [
        "## Dada la lista estudiantes:\n",
        "> - Hacer una celda para resolver cada punto.\n",
        "- El TP resuelto será revisado en tu repositorio, no es necesario que lo envíes, pero sí que lo pushees correctamente.\n",
        "- En la nota inicial se contempla:\n",
        "  - La incorporación de este documento a tu propio respositorio.\n",
        "  - El pusheo de los cambios realizados.\n",
        "  - La resolución de los ejercicios propuestos.\n"
      ],
      "metadata": {
        "id": "rd6Ug6v3J4uN"
      }
    },
    {
      "cell_type": "markdown",
      "source": [
        "1. Reemplaza todos los valores del nombre por los que obtengas del método title(). De esta manera las listas quedaran con los datos más homogéneos."
      ],
      "metadata": {
        "id": "wRLng-uURyJ3"
      }
    },
    {
      "cell_type": "code",
      "source": [
        "for i in range(len(estudiantes_5d)):\n",
        "  nombre, division, cumpleaños_alumno = estudiantes_5d[i]\n",
        "  nombre = nombre.title()\n",
        "  estudiantes_5d[i] = (nombre, division, cumpleaños_alumno)\n",
        "for estudiante in estudiantes_5d:\n",
        "  print(estudiante)\n",
        "\n",
        "for i in range(len(estudiantes_5c)):\n",
        "  nombre, division, cumpleaños_alumno = estudiantes_5c[i]\n",
        "  nombreo = nombre.title()\n",
        "  estudiantes_5c[i] = (nombre, division, cumpleaños_alumno)\n",
        "for estudiante in estudiantes_5c:\n",
        "  print(estudiante)"
      ],
      "metadata": {
        "id": "5lFqJoTaSIWi",
        "outputId": "3eafd97f-fae3-45aa-b65e-694c365a5192",
        "colab": {
          "base_uri": "https://localhost:8080/"
        }
      },
      "execution_count": null,
      "outputs": [
        {
          "output_type": "stream",
          "name": "stdout",
          "text": [
            "('Alurralde, Solange Stefania', 'D', '02/04/2007')\n",
            "('Alvarado, Ludmila Del Milagro', 'D', '06/09/2006')\n",
            "('Angel, Camila Juliana', 'D', '07/03/2007')\n",
            "('Arenas, Lucas Gabriel', 'D', '26/06/2007')\n",
            "('Caseres, Maria Antonia', 'D', '01/07/2006')\n",
            "('Castillo, Paulina Milagros', 'D', '01/06/2007')\n",
            "('Correa Segovia, Hugo Mariano', 'D', '04/12/2006')\n",
            "('D Elia, Alvaro Tadeo', 'D', '27/08/2006')\n",
            "('Flores, Victoria Agustina', 'D', '12/12/2006')\n",
            "('Geronimo Soriano, Lizzie Amaya', 'D', '20/01/2007')\n",
            "('Guzman, Angélica Morena', 'D', '11/04/2007')\n",
            "('Guzman, Jazmin Esmeralda Belen', 'D', '31/07/2006')\n",
            "('Jaime, Anita Maria Belen', 'D', '19/04/2007')\n",
            "('Lacour Polo, Nazarena', 'D', '19/12/2005')\n",
            "('Lascano Guanca, Marcelo Fabricio', 'D', '17/02/2006')\n",
            "('Lezcano, Celia Morena', 'D', '01/07/2005')\n",
            "('Martinez, Tomas Andres', 'D', '22/03/2007')\n",
            "('Portella Valdivia, Pedro Francisco', 'D', '24/01/2007')\n",
            "('Retamal Cisneros, Zacarias Josue', 'D', '24/02/2007')\n",
            "('Rosales, Francisco Gabriel', 'D', '14/11/2006')\n",
            "('Salem Barba, Mahia', 'D', '14/10/2005')\n",
            "('Soto Camara, Agustin Ignacio', 'D', '07/11/2005')\n",
            "('Villalba, Irina', 'D', '09/09/2006')\n",
            "('Voltolini, Emanuel Tobias', 'D', '17/09/2006')\n",
            "('Zalazar, Santino Stefano', 'D', '30/09/2006')\n",
            "('ABUD LASPIUR, LOURDES MARIEL', 'C', '05/12/2006')\n",
            "('Amador, Luana Micaela', 'C', '09/12/2006')\n",
            "('Anaquin, Leonardo Ezequiel', 'C', '06/09/2005')\n",
            "('Araoz Sanchez, Lautaro Nahuel', 'C', '28/12/2005')\n",
            "('Argañaraz, Agostina Abril', 'C', '11/10/2006')\n",
            "('Barrera, Matias Ezequiel', 'C', '27/02/2007')\n",
            "('Barrozo Vedia, Joaquin Nicolas', 'C', '15/04/2006')\n",
            "('Bettinelli, Valentino', 'C', '12/07/2006')\n",
            "('Bracamonte Martinez, Salvador', 'C', '02/11/2005')\n",
            "('Colque Rivero, Ariana Zoe Del Valle', 'C', '27/12/2006')\n",
            "('Diaz, Dulce Maitena', 'C', '11/12/2006')\n",
            "('FIGUEROA, SANTINO JOSUE', 'C', '12/05/2007')\n",
            "('Flores Cardozo, Agustina Tiara', 'C', '18/03/2006')\n",
            "('Gallo, Octavio Ismael', 'C', '04/08/2006')\n",
            "('Galvan, Lourdes Yamila', 'C', '19/08/2005')\n",
            "('Giangreco, Vitto Tomasso', 'C', '21/03/2007')\n",
            "('Grancara, Martina Luna', 'C', '15/12/2006')\n",
            "('Guanca, Sara Elizabeth', 'C', '17/01/2007')\n",
            "('Lopez, Victoria Constanza', 'C', '12/11/2007')\n",
            "('Mamani Garrido, Rosario Agostina', 'C', '24/10/2006')\n",
            "('Marinaro, Martin Ezequiel', 'C', '03/11/2006')\n",
            "('Merluzzi Dagum, Ignacio', 'C', '22/12/2005')\n",
            "('Messina, Martina', 'C', '13/07/2005')\n",
            "('RASUK, KARIM', 'C', '13/07/2007')\n",
            "('Rios, Lucia Magali', 'C', '22/09/2006')\n",
            "('Sanchez Flores, Matías Agustín', 'C', '15/02/2007')\n",
            "('Scarano, Renato Marcelo', 'C', '06/12/2006')\n",
            "('Sierra, Lucas Mauricio', 'C', '03/04/2005')\n",
            "('Tapia, Martin Gabriel', 'C', '30/05/2006')\n",
            "('Vilte, Mia Antonella Alondra', 'C', '10/09/2005')\n",
            "('Virgillito, Katya Milena', 'C', '19/06/2007')\n"
          ]
        }
      ]
    },
    {
      "cell_type": "markdown",
      "source": [
        "2. Genera una lista de diccionarios con los datos de las listas, donde las claves de los mismos serán:\n",
        "- \"apellido\"\n",
        "- \"nombre\"\n",
        "- \"curso\"\n",
        "- \"division\"\n",
        "- \"feha_de_nacimiento\"\n",
        "\n",
        "Muestra la información generada."
      ],
      "metadata": {
        "id": "dYEGkYZyLy9I"
      }
    },
    {
      "cell_type": "code",
      "source": [
        "for i in range(len(estudiantes_5d)):\n",
        "  nombre, division, cumpleaños_alumno = estudiantes_5d[i]\n",
        "  nombre = nombre.split(\",\")\n",
        "  apellido, nombre = nombre\n",
        "  dicc = {\n",
        "    \"apellido\" : apellido,\n",
        "    \"nombre\" : nombre,\n",
        "    \"curso\" : 5,\n",
        "    \"division\" : division,\n",
        "    \"cumpleannos\" : cumpleaños_alumno\n",
        "    }\n",
        "  estudiantes_5d[i] = dicc\n",
        "  print(estudiantes_5d[i])\n",
        "\n",
        "for i in range(len(estudiantes_5c)):\n",
        "  nombre, division, cumpleaños_alumno = estudiantes_5c[i]\n",
        "  nombre = nombre.split(\",\")\n",
        "  apellido, nombre = nombre\n",
        "  dicc = {\n",
        "    \"apellido\" : apellido,\n",
        "    \"nombre\" : nombre,\n",
        "    \"curso\" : 5,\n",
        "    \"division\" : division,\n",
        "    \"cumpleannos\" : cumpleaños_alumno\n",
        "    }\n",
        "  estudiantes_5c[i] = dicc\n",
        "  print(estudiantes_5c[i])"
      ],
      "metadata": {
        "id": "D_MMP1a8ubY8",
        "outputId": "57563b26-18fb-4113-f275-9bcf6f5891c6",
        "colab": {
          "base_uri": "https://localhost:8080/"
        }
      },
      "execution_count": null,
      "outputs": [
        {
          "output_type": "stream",
          "name": "stdout",
          "text": [
            "{'apellido': 'Alurralde', 'nombre': ' Solange Stefania', 'curso': 5, 'division': 'D', 'cumpleannos': '02/04/2007'}\n",
            "{'apellido': 'Alvarado', 'nombre': ' Ludmila Del Milagro', 'curso': 5, 'division': 'D', 'cumpleannos': '06/09/2006'}\n",
            "{'apellido': 'Angel', 'nombre': ' Camila Juliana', 'curso': 5, 'division': 'D', 'cumpleannos': '07/03/2007'}\n",
            "{'apellido': 'Arenas', 'nombre': ' Lucas Gabriel', 'curso': 5, 'division': 'D', 'cumpleannos': '26/06/2007'}\n",
            "{'apellido': 'Caseres', 'nombre': ' Maria Antonia', 'curso': 5, 'division': 'D', 'cumpleannos': '01/07/2006'}\n",
            "{'apellido': 'Castillo', 'nombre': ' Paulina Milagros', 'curso': 5, 'division': 'D', 'cumpleannos': '01/06/2007'}\n",
            "{'apellido': 'Correa Segovia', 'nombre': ' Hugo Mariano', 'curso': 5, 'division': 'D', 'cumpleannos': '04/12/2006'}\n",
            "{'apellido': 'D Elia', 'nombre': ' Alvaro Tadeo', 'curso': 5, 'division': 'D', 'cumpleannos': '27/08/2006'}\n",
            "{'apellido': 'Flores', 'nombre': ' Victoria Agustina', 'curso': 5, 'division': 'D', 'cumpleannos': '12/12/2006'}\n",
            "{'apellido': 'Geronimo Soriano', 'nombre': ' Lizzie Amaya', 'curso': 5, 'division': 'D', 'cumpleannos': '20/01/2007'}\n",
            "{'apellido': 'Guzman', 'nombre': ' Angélica Morena', 'curso': 5, 'division': 'D', 'cumpleannos': '11/04/2007'}\n",
            "{'apellido': 'Guzman', 'nombre': ' Jazmin Esmeralda Belen', 'curso': 5, 'division': 'D', 'cumpleannos': '31/07/2006'}\n",
            "{'apellido': 'Jaime', 'nombre': ' Anita Maria Belen', 'curso': 5, 'division': 'D', 'cumpleannos': '19/04/2007'}\n",
            "{'apellido': 'Lacour Polo', 'nombre': ' Nazarena', 'curso': 5, 'division': 'D', 'cumpleannos': '19/12/2005'}\n",
            "{'apellido': 'Lascano Guanca', 'nombre': ' Marcelo Fabricio', 'curso': 5, 'division': 'D', 'cumpleannos': '17/02/2006'}\n",
            "{'apellido': 'Lezcano', 'nombre': ' Celia Morena', 'curso': 5, 'division': 'D', 'cumpleannos': '01/07/2005'}\n",
            "{'apellido': 'Martinez', 'nombre': ' Tomas Andres', 'curso': 5, 'division': 'D', 'cumpleannos': '22/03/2007'}\n",
            "{'apellido': 'Portella Valdivia', 'nombre': ' Pedro Francisco', 'curso': 5, 'division': 'D', 'cumpleannos': '24/01/2007'}\n",
            "{'apellido': 'Retamal Cisneros', 'nombre': ' Zacarias Josue', 'curso': 5, 'division': 'D', 'cumpleannos': '24/02/2007'}\n",
            "{'apellido': 'Rosales', 'nombre': ' Francisco Gabriel', 'curso': 5, 'division': 'D', 'cumpleannos': '14/11/2006'}\n",
            "{'apellido': 'Salem Barba', 'nombre': ' Mahia', 'curso': 5, 'division': 'D', 'cumpleannos': '14/10/2005'}\n",
            "{'apellido': 'Soto Camara', 'nombre': ' Agustin Ignacio', 'curso': 5, 'division': 'D', 'cumpleannos': '07/11/2005'}\n",
            "{'apellido': 'Villalba', 'nombre': ' Irina', 'curso': 5, 'division': 'D', 'cumpleannos': '09/09/2006'}\n",
            "{'apellido': 'Voltolini', 'nombre': ' Emanuel Tobias', 'curso': 5, 'division': 'D', 'cumpleannos': '17/09/2006'}\n",
            "{'apellido': 'Zalazar', 'nombre': ' Santino Stefano', 'curso': 5, 'division': 'D', 'cumpleannos': '30/09/2006'}\n",
            "{'apellido': 'ABUD LASPIUR', 'nombre': ' LOURDES MARIEL', 'curso': 5, 'division': 'C', 'cumpleannos': '05/12/2006'}\n",
            "{'apellido': 'Amador', 'nombre': ' Luana Micaela', 'curso': 5, 'division': 'C', 'cumpleannos': '09/12/2006'}\n",
            "{'apellido': 'Anaquin', 'nombre': ' Leonardo Ezequiel', 'curso': 5, 'division': 'C', 'cumpleannos': '06/09/2005'}\n",
            "{'apellido': 'Araoz Sanchez', 'nombre': ' Lautaro Nahuel', 'curso': 5, 'division': 'C', 'cumpleannos': '28/12/2005'}\n",
            "{'apellido': 'Argañaraz', 'nombre': ' Agostina Abril', 'curso': 5, 'division': 'C', 'cumpleannos': '11/10/2006'}\n",
            "{'apellido': 'Barrera', 'nombre': ' Matias Ezequiel', 'curso': 5, 'division': 'C', 'cumpleannos': '27/02/2007'}\n",
            "{'apellido': 'Barrozo Vedia', 'nombre': ' Joaquin Nicolas', 'curso': 5, 'division': 'C', 'cumpleannos': '15/04/2006'}\n",
            "{'apellido': 'Bettinelli', 'nombre': ' Valentino', 'curso': 5, 'division': 'C', 'cumpleannos': '12/07/2006'}\n",
            "{'apellido': 'Bracamonte Martinez', 'nombre': ' Salvador', 'curso': 5, 'division': 'C', 'cumpleannos': '02/11/2005'}\n",
            "{'apellido': 'Colque Rivero', 'nombre': ' Ariana Zoe Del Valle', 'curso': 5, 'division': 'C', 'cumpleannos': '27/12/2006'}\n",
            "{'apellido': 'Diaz', 'nombre': ' Dulce Maitena', 'curso': 5, 'division': 'C', 'cumpleannos': '11/12/2006'}\n",
            "{'apellido': 'FIGUEROA', 'nombre': ' SANTINO JOSUE', 'curso': 5, 'division': 'C', 'cumpleannos': '12/05/2007'}\n",
            "{'apellido': 'Flores Cardozo', 'nombre': ' Agustina Tiara', 'curso': 5, 'division': 'C', 'cumpleannos': '18/03/2006'}\n",
            "{'apellido': 'Gallo', 'nombre': ' Octavio Ismael', 'curso': 5, 'division': 'C', 'cumpleannos': '04/08/2006'}\n",
            "{'apellido': 'Galvan', 'nombre': ' Lourdes Yamila', 'curso': 5, 'division': 'C', 'cumpleannos': '19/08/2005'}\n",
            "{'apellido': 'Giangreco', 'nombre': ' Vitto Tomasso', 'curso': 5, 'division': 'C', 'cumpleannos': '21/03/2007'}\n",
            "{'apellido': 'Grancara', 'nombre': ' Martina Luna', 'curso': 5, 'division': 'C', 'cumpleannos': '15/12/2006'}\n",
            "{'apellido': 'Guanca', 'nombre': ' Sara Elizabeth', 'curso': 5, 'division': 'C', 'cumpleannos': '17/01/2007'}\n",
            "{'apellido': 'Lopez', 'nombre': ' Victoria Constanza', 'curso': 5, 'division': 'C', 'cumpleannos': '12/11/2007'}\n",
            "{'apellido': 'Mamani Garrido', 'nombre': ' Rosario Agostina', 'curso': 5, 'division': 'C', 'cumpleannos': '24/10/2006'}\n",
            "{'apellido': 'Marinaro', 'nombre': ' Martin Ezequiel', 'curso': 5, 'division': 'C', 'cumpleannos': '03/11/2006'}\n",
            "{'apellido': 'Merluzzi Dagum', 'nombre': ' Ignacio', 'curso': 5, 'division': 'C', 'cumpleannos': '22/12/2005'}\n",
            "{'apellido': 'Messina', 'nombre': ' Martina', 'curso': 5, 'division': 'C', 'cumpleannos': '13/07/2005'}\n",
            "{'apellido': 'RASUK', 'nombre': ' KARIM', 'curso': 5, 'division': 'C', 'cumpleannos': '13/07/2007'}\n",
            "{'apellido': 'Rios', 'nombre': ' Lucia Magali', 'curso': 5, 'division': 'C', 'cumpleannos': '22/09/2006'}\n",
            "{'apellido': 'Sanchez Flores', 'nombre': ' Matías Agustín', 'curso': 5, 'division': 'C', 'cumpleannos': '15/02/2007'}\n",
            "{'apellido': 'Scarano', 'nombre': ' Renato Marcelo', 'curso': 5, 'division': 'C', 'cumpleannos': '06/12/2006'}\n",
            "{'apellido': 'Sierra', 'nombre': ' Lucas Mauricio', 'curso': 5, 'division': 'C', 'cumpleannos': '03/04/2005'}\n",
            "{'apellido': 'Tapia', 'nombre': ' Martin Gabriel', 'curso': 5, 'division': 'C', 'cumpleannos': '30/05/2006'}\n",
            "{'apellido': 'Vilte', 'nombre': ' Mia Antonella Alondra', 'curso': 5, 'division': 'C', 'cumpleannos': '10/09/2005'}\n",
            "{'apellido': 'Virgillito', 'nombre': ' Katya Milena', 'curso': 5, 'division': 'C', 'cumpleannos': '19/06/2007'}\n"
          ]
        }
      ]
    },
    {
      "cell_type": "markdown",
      "source": [
        "3. Genera un diccionario en python, en donde la clave sea cada nombre que aparece en las listas y el valor será la cantidad de veces que se encuentra el mismo.\n",
        "Para este punto es posible fusionar ambas listas en una sola, recordá que hay un método que realiza esta acción.\n",
        "\n",
        "Mostrá la informacion generada"
      ],
      "metadata": {
        "id": "UW2dlBsGMAte"
      }
    },
    {
      "cell_type": "code",
      "source": [
        "dict_nombres = {}\n",
        "estudiantes = []\n",
        "estudiantes.extend(estudiantes_5d)\n",
        "estudiantes.extend(estudiantes_5c)\n",
        "for estudiante in estudiantes:\n",
        "  nombres = estudiante[\"nombre\"].split(\" \")\n",
        "  for nombre in nombres:\n",
        "    if nombre in dict_nombres.keys():\n",
        "      dict_nombres[nombre] += 1\n",
        "    else:\n",
        "      dict_nombres[nombre] = 1\n",
        "\n",
        "for nombre in dict_nombres:\n",
        "    print(f\"{nombre}: {dict_nombres[nombre]}\")"
      ],
      "metadata": {
        "id": "EawAy4SANtkl",
        "outputId": "db09e119-3e79-4d46-e047-7f01559ea303",
        "colab": {
          "base_uri": "https://localhost:8080/"
        }
      },
      "execution_count": null,
      "outputs": [
        {
          "output_type": "stream",
          "name": "stdout",
          "text": [
            ": 56\n",
            "Solange: 1\n",
            "Stefania: 1\n",
            "Ludmila: 1\n",
            "Del: 2\n",
            "Milagro: 1\n",
            "Camila: 1\n",
            "Juliana: 1\n",
            "Lucas: 2\n",
            "Gabriel: 3\n",
            "Maria: 2\n",
            "Antonia: 1\n",
            "Paulina: 1\n",
            "Milagros: 1\n",
            "Hugo: 1\n",
            "Mariano: 1\n",
            "Alvaro: 1\n",
            "Tadeo: 1\n",
            "Victoria: 2\n",
            "Agustina: 2\n",
            "Lizzie: 1\n",
            "Amaya: 1\n",
            "Angélica: 1\n",
            "Morena: 2\n",
            "Jazmin: 1\n",
            "Esmeralda: 1\n",
            "Belen: 2\n",
            "Anita: 1\n",
            "Nazarena: 1\n",
            "Marcelo: 2\n",
            "Fabricio: 1\n",
            "Celia: 1\n",
            "Tomas: 1\n",
            "Andres: 1\n",
            "Pedro: 1\n",
            "Francisco: 2\n",
            "Zacarias: 1\n",
            "Josue: 1\n",
            "Mahia: 1\n",
            "Agustin: 1\n",
            "Ignacio: 2\n",
            "Irina: 1\n",
            "Emanuel: 1\n",
            "Tobias: 1\n",
            "Santino: 1\n",
            "Stefano: 1\n",
            "LOURDES: 1\n",
            "MARIEL: 1\n",
            "Luana: 1\n",
            "Micaela: 1\n",
            "Leonardo: 1\n",
            "Ezequiel: 3\n",
            "Lautaro: 1\n",
            "Nahuel: 1\n",
            "Agostina: 2\n",
            "Abril: 1\n",
            "Matias: 1\n",
            "Joaquin: 1\n",
            "Nicolas: 1\n",
            "Valentino: 1\n",
            "Salvador: 1\n",
            "Ariana: 1\n",
            "Zoe: 1\n",
            "Valle: 1\n",
            "Dulce: 1\n",
            "Maitena: 1\n",
            "SANTINO: 1\n",
            "JOSUE: 1\n",
            "Tiara: 1\n",
            "Octavio: 1\n",
            "Ismael: 1\n",
            "Lourdes: 1\n",
            "Yamila: 1\n",
            "Vitto: 1\n",
            "Tomasso: 1\n",
            "Martina: 2\n",
            "Luna: 1\n",
            "Sara: 1\n",
            "Elizabeth: 1\n",
            "Constanza: 1\n",
            "Rosario: 1\n",
            "Martin: 2\n",
            "KARIM: 1\n",
            "Lucia: 1\n",
            "Magali: 1\n",
            "Matías: 1\n",
            "Agustín: 1\n",
            "Renato: 1\n",
            "Mauricio: 1\n",
            "Mia: 1\n",
            "Antonella: 1\n",
            "Alondra: 1\n",
            "Katya: 1\n",
            "Milena: 1\n"
          ]
        }
      ]
    },
    {
      "cell_type": "markdown",
      "source": [
        "4. Genera un diccionario en python, en donde la clave sea cada apellido que aparece en las listas y el valor será la cantidad de veces que se encuentra el mismo.\n",
        "Para este punto es posible fusionar ambas listas en una sola, recordá que hay un método que realiza esta acción."
      ],
      "metadata": {
        "id": "kZeEHUYVNwGV"
      }
    },
    {
      "cell_type": "code",
      "source": [
        "dict_apellidos = {}\n",
        "estudiantes_5d.extend(estudiantes_5c)\n",
        "for estudiante in estudiantes_5d:\n",
        "    apellidos = estudiante[\"apellido\"].split(\" \")\n",
        "    for apellido in apellidos:\n",
        "      if apellido in dict_apellidos.keys():\n",
        "        dict_apellidos[apellido] += 1\n",
        "      else:\n",
        "        dict_apellidos[apellido] = 1\n",
        "\n",
        "for apellido in dict_apellidos:\n",
        "    print(f\"{apellido}: {dict_apellidos[apellido]}\")"
      ],
      "metadata": {
        "id": "q05GnxXgORzt",
        "outputId": "3b8ea53d-524b-4374-aca8-f18c9c83c5d2",
        "colab": {
          "base_uri": "https://localhost:8080/"
        }
      },
      "execution_count": null,
      "outputs": [
        {
          "output_type": "stream",
          "name": "stdout",
          "text": [
            "Alurralde: 1\n",
            "Alvarado: 1\n",
            "Angel: 1\n",
            "Arenas: 1\n",
            "Caseres: 1\n",
            "Castillo: 1\n",
            "Correa: 1\n",
            "Segovia: 1\n",
            "D: 1\n",
            "Elia: 1\n",
            "Flores: 9\n",
            "Geronimo: 1\n",
            "Soriano: 1\n",
            "Guzman: 2\n",
            "Jaime: 1\n",
            "Lacour: 1\n",
            "Polo: 1\n",
            "Lascano: 1\n",
            "Guanca: 5\n",
            "Lezcano: 1\n",
            "Martinez: 5\n",
            "Portella: 1\n",
            "Valdivia: 1\n",
            "Retamal: 1\n",
            "Cisneros: 1\n",
            "Rosales: 1\n",
            "Salem: 1\n",
            "Barba: 1\n",
            "Soto: 1\n",
            "Camara: 1\n",
            "Villalba: 1\n",
            "Voltolini: 1\n",
            "Zalazar: 1\n",
            "ABUD: 4\n",
            "LASPIUR: 4\n",
            "Amador: 4\n",
            "Anaquin: 4\n",
            "Araoz: 4\n",
            "Sanchez: 8\n",
            "Argañaraz: 4\n",
            "Barrera: 4\n",
            "Barrozo: 4\n",
            "Vedia: 4\n",
            "Bettinelli: 4\n",
            "Bracamonte: 4\n",
            "Colque: 4\n",
            "Rivero: 4\n",
            "Diaz: 4\n",
            "FIGUEROA: 4\n",
            "Cardozo: 4\n",
            "Gallo: 4\n",
            "Galvan: 4\n",
            "Giangreco: 4\n",
            "Grancara: 4\n",
            "Lopez: 4\n",
            "Mamani: 4\n",
            "Garrido: 4\n",
            "Marinaro: 4\n",
            "Merluzzi: 4\n",
            "Dagum: 4\n",
            "Messina: 4\n",
            "RASUK: 4\n",
            "Rios: 4\n",
            "Scarano: 4\n",
            "Sierra: 4\n",
            "Tapia: 4\n",
            "Vilte: 4\n",
            "Virgillito: 4\n"
          ]
        }
      ]
    },
    {
      "cell_type": "markdown",
      "source": [
        "5. Solicita al usuario que ingrese un apellido y muestra  a todos los estudiantes con ese apellido."
      ],
      "metadata": {
        "id": "ywYmA2JQNp3T"
      }
    },
    {
      "cell_type": "code",
      "source": [
        "apellido = str(input(\"ingrese el apellido del alumno porfis:  \")).title()\n",
        "encontrado = False\n",
        "for estudiante in estudiantes_5c:\n",
        "  if apellido in estudiante[\"apellido\"]:\n",
        "    print(estudiante)\n",
        "    encontrado = True\n",
        "if encontrado == False:\n",
        "  print(f\"no se encontró el apellido del alumno {apellido}\")"
      ],
      "metadata": {
        "id": "Cnp334ZrOCjK",
        "outputId": "19baf0e9-e919-4b3d-a480-2a4ae4864f23",
        "colab": {
          "base_uri": "https://localhost:8080/"
        }
      },
      "execution_count": null,
      "outputs": [
        {
          "output_type": "stream",
          "name": "stdout",
          "text": [
            "ingrese un apellido:  RASUK\n",
            "no se encontró el apellido Rasuk\n"
          ]
        }
      ]
    },
    {
      "cell_type": "markdown",
      "source": [
        "6. Solicita al usuario que ingrese un nombre y muestra a todos los estudiantes con el nombre ingresado."
      ],
      "metadata": {
        "id": "iAXts6saODoU"
      }
    },
    {
      "cell_type": "code",
      "source": [
        "nombre_alumno = str(input(\"ingrese el nonbre del alumno:  \")).title()\n",
        "encontrado = False\n",
        "for estudiante in estudiantes_5c:\n",
        "  if nombre_alumno in estudiante[\"nombre\"]:\n",
        "    print(estudiante)\n",
        "    encontrado = True\n",
        "if encontrado == False:\n",
        "  print(f\"no se encontró el nombre del alumno {nombre}\")"
      ],
      "metadata": {
        "id": "FMRsUlvtOJS_",
        "outputId": "214608aa-65b5-4d5f-a917-128aae846e6e",
        "colab": {
          "base_uri": "https://localhost:8080/"
        }
      },
      "execution_count": null,
      "outputs": [
        {
          "output_type": "stream",
          "name": "stdout",
          "text": [
            "ingrese el nonbre del alumno:  Lucas\n",
            "{'apellido': 'Sierra', 'nombre': ' Lucas Mauricio', 'curso': 5, 'division': 'C', 'cumpleannos': '03/04/2005'}\n"
          ]
        }
      ]
    },
    {
      "cell_type": "markdown",
      "source": [
        "7. Busca el diccionario con tu información dentro de la lista y cámbiate de división, de tal manera que si estas en 5C, con el cambio quedes en 5D y viceversa."
      ],
      "metadata": {
        "id": "T4PFiwwdOK27"
      }
    },
    {
      "cell_type": "code",
      "source": [],
      "metadata": {
        "id": "vjQ2X9x3OmFr"
      },
      "execution_count": null,
      "outputs": []
    },
    {
      "cell_type": "markdown",
      "source": [
        "8. Ordenar la lista alfabeticamente por nombre. Ascendente y descendentemente. Para elegir como ordenarla, mostrar un menú donde el usuario podrá decidir como quiere ver la salida."
      ],
      "metadata": {
        "id": "xfy8SFlZRVGf"
      }
    },
    {
      "cell_type": "code",
      "source": [],
      "metadata": {
        "id": "E4Onk1FNRUa2"
      },
      "execution_count": null,
      "outputs": []
    },
    {
      "cell_type": "markdown",
      "source": [
        "9. Ordenar la lista alfabeticamente por apellido. Ascendente y descendentemente. Para elegir como ordenarla, mostrar un menú donde el usuario podrá decidir como quiere ver la salida."
      ],
      "metadata": {
        "id": "lW18NgPjRcGP"
      }
    },
    {
      "cell_type": "code",
      "source": [],
      "metadata": {
        "id": "jTtWBnalRcoC"
      },
      "execution_count": null,
      "outputs": []
    },
    {
      "cell_type": "markdown",
      "source": [
        "10. Ordena la lista por fecha de nacimiento, de manera ascendente y descendente."
      ],
      "metadata": {
        "id": "E24lH7x5Xbur"
      }
    },
    {
      "cell_type": "code",
      "source": [],
      "metadata": {
        "id": "9SeI3GBGXims"
      },
      "execution_count": null,
      "outputs": []
    },
    {
      "cell_type": "markdown",
      "source": [
        "11. Generar una estuctura de diccionario anidado en donde la clave sea el nombre del estudiante y el valor sea un diccionario con los datos del mismo, de la siguiente manera:\n",
        "\n",
        "\n",
        "\n",
        "\n",
        "```python\n",
        "estudiantes = {\n",
        "    \"Juan Perez\": {\n",
        "        \"año\": 2024,\n",
        "        \"división\": \"5D\",\n",
        "        \"fecha de nacimiento\": \"15/03/2006\"\n",
        "    },\n",
        "    \"Maria Gomez\": {\n",
        "        \"año\": 2024,\n",
        "        \"división\": \"5D\",\n",
        "        \"fecha de nacimiento\": \"22/07/2006\"\n",
        "    },\n",
        "    \"Carlos Lopez\": {\n",
        "        \"año\": 2024,\n",
        "        \"división\": \"5D\",\n",
        "        \"fecha de nacimiento\": \"05/10/2006\"\n",
        "    }\n",
        "}\n",
        "```\n",
        "\n",
        "\n",
        "\n",
        "\n"
      ],
      "metadata": {
        "id": "vOY6K_ydRc3Q"
      }
    },
    {
      "cell_type": "code",
      "source": [],
      "metadata": {
        "id": "9JDrd3WqRdTi"
      },
      "execution_count": null,
      "outputs": []
    }
  ]
}